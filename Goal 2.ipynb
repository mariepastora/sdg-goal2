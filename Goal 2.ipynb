{
 "cells": [
  {
   "cell_type": "markdown",
   "metadata": {},
   "source": [
    "## Focus on Goal 2: ending world hunger"
   ]
  },
  {
   "cell_type": "code",
   "execution_count": 238,
   "metadata": {
    "collapsed": true
   },
   "outputs": [],
   "source": [
    "import requests \n",
    "import pandas as pd\n",
    "import numpy "
   ]
  },
  {
   "cell_type": "markdown",
   "metadata": {},
   "source": [
    "### Using the API\n",
    "I won't end up using it too much, except to get target and indicator information"
   ]
  },
  {
   "cell_type": "code",
   "execution_count": 239,
   "metadata": {
    "collapsed": true
   },
   "outputs": [],
   "source": [
    "# setting up urls\n",
    "url_list_goals = 'https://unstats.un.org/SDGAPI/v1/sdg/Goal/List?includechildren=true'\n",
    "url_goal_data = 'https://unstats.un.org/SDGAPI/v1/sdg/Goal/PivotData'\n",
    "\n",
    "# creating function to get goal data \n",
    "# will not end up using it\n",
    "def get_goal_data (goal_code):\n",
    "    url_goal_data = 'https://unstats.un.org/SDGAPI/swagger//v1/sdg/Goal/' + goal_code + '/Target/Lis'\n",
    "    r = requests.get(url_goal_data) \n",
    "    data = r.json()\n",
    "    return data\n"
   ]
  },
  {
   "cell_type": "code",
   "execution_count": null,
   "metadata": {
    "scrolled": true
   },
   "outputs": [],
   "source": [
    "# trying a first request\n",
    "r = requests.get(url_goal_data) \n",
    "data = r.json()\n",
    "data"
   ]
  },
  {
   "cell_type": "code",
   "execution_count": 242,
   "metadata": {},
   "outputs": [],
   "source": [
    "url_list_goals = 'https://unstats.un.org/SDGAPI/v1/sdg/Goal/List?includechildren=true'\n",
    "url_list_target = 'https://unstats.un.org/SDGAPI/v1/sdg/Target/List?includechildren=true'\n",
    "url_list_indicator = 'https://unstats.un.org/SDGAPI/v1/sdg/Indicator/List'\n",
    "\n",
    "r = requests.get(url_list_target) \n",
    "data = r.json()"
   ]
  },
  {
   "cell_type": "code",
   "execution_count": null,
   "metadata": {},
   "outputs": [],
   "source": [
    "# getting list of all targets and indicators\n",
    "for each in data:\n",
    "    if(each['goal'] == '2'):\n",
    "        print (each['code'])\n",
    "        print(each['title'])\n",
    "        for indic in (each['indicators']):\n",
    "            print(indic['code'])\n",
    "            print(indic['description'])\n",
    "    else:\n",
    "        continue"
   ]
  },
  {
   "cell_type": "markdown",
   "metadata": {},
   "source": [
    "### Loading a first CSV with undernourishment data\n",
    "The 2015 world average still seems pretty far off from the 2030 0% prevalence goal, so let's see how bad it is and visualize it"
   ]
  },
  {
   "cell_type": "code",
   "execution_count": 244,
   "metadata": {
    "collapsed": true
   },
   "outputs": [],
   "source": [
    "df_undernourishment = pd.read_csv('prevalence-of-undernourishment.csv')"
   ]
  },
  {
   "cell_type": "code",
   "execution_count": 245,
   "metadata": {
    "scrolled": true
   },
   "outputs": [],
   "source": [
    "df_undernourishment = df_undernourishment.rename(columns={'Prevalence of undernourishment (World Bank 2017 & UN FAO SOFI (2018)) (%)':'percentage'})"
   ]
  },
  {
   "cell_type": "code",
   "execution_count": null,
   "metadata": {
    "scrolled": true
   },
   "outputs": [],
   "source": [
    "df_undernourishment.Entity.unique()\n",
    "# a first idea  i have from this would be to represent each country as a square, \n",
    "# and the world average in 2018 as another\n",
    "# in order to compare and have a better idea of where everyone stands"
   ]
  },
  {
   "cell_type": "code",
   "execution_count": 247,
   "metadata": {},
   "outputs": [
    {
     "data": {
      "text/plain": [
       "118"
      ]
     },
     "execution_count": 247,
     "metadata": {},
     "output_type": "execute_result"
    }
   ],
   "source": [
    "len(list_of_countries)"
   ]
  },
  {
   "cell_type": "code",
   "execution_count": 248,
   "metadata": {
    "collapsed": true
   },
   "outputs": [],
   "source": [
    "# creating list of countries because not interested in regions\n",
    "list_of_countries = ['Afghanistan', 'Albania', 'Algeria', 'Angola', 'Argentina', 'Armenia', 'Azerbaijan', 'Bangladesh', 'Barbados',\n",
    "                     'Belize', 'Benin', 'Bolivia', 'Botswana', 'Brazil', 'Brunei', 'Burkina Faso', 'Cambodia', 'Cameroon',\n",
    "                     'Cape Verde', 'Caribbean small states', 'Central African Republic', 'Chad', 'Chile', 'China', 'Colombia',\n",
    "                     'Congo', 'Costa Rica', \"Cote d'Ivoire\", 'Cuba', 'Djibouti', 'Dominican Republic', 'Ecuador', 'Egypt', \n",
    "                     'El Salvador', 'Ethiopia', 'Fiji', 'Gabon', 'Gambia', 'Georgia', 'Ghana', 'Guatemala', 'Guinea', 'Guinea-Bissau',\n",
    "                     'Guyana', 'Haiti', 'Honduras', 'India', 'Indonesia', 'Iran', 'Iraq', 'Jamaica', 'Jordan', 'Kazakhstan', 'Kenya',\n",
    "                     'Kiribati', 'Kuwait', 'Kyrgyzstan', 'Laos', 'Lesotho', 'Liberia', 'Madagascar', 'Malawi', 'Malaysia',\n",
    "                     'Maldives', 'Mali', 'Mauritania', 'Mauritius', 'Mexico', 'Mongolia', 'Morocco', 'Mozambique', 'Myanmar',\n",
    "                     'Namibia', 'Nepal', 'Nicaragua', 'Niger', 'Nigeria', 'North Korea', 'Oman', 'Other small states', 'Pacific island small states',\n",
    "                     'Pakistan', 'Panama', 'Paraguay', 'Peru', 'Philippines', 'Rwanda', 'Saint Vincent and the Grenadines', 'Samoa',\n",
    "                     'Sao Tome and Principe', 'Saudi Arabia', 'Senegal', 'Sierra Leone', 'Solomon Islands', 'South Africa', 'South Korea', 'Sri Lanka',\n",
    "                     'Suriname', 'Swaziland', 'Tajikistan', 'Tanzania', 'Thailand', 'Timor', 'Togo', 'Trinidad and Tobago', \n",
    "                     'Tunisia', 'Turkey', 'Turkmenistan','Uganda', 'United Arab Emirates','Uruguay',\n",
    "                       'Uzbekistan', 'Vanuatu', 'Venezuela', 'Vietnam', 'Yemen', 'Zambia', 'Zimbabwe']"
   ]
  },
  {
   "cell_type": "code",
   "execution_count": 249,
   "metadata": {
    "scrolled": true
   },
   "outputs": [],
   "source": [
    "# exportin csv\n",
    "df_countries = df_undernourishment.loc[df_undernourishment['Entity'].isin(list_of_countries)]\n",
    "df_countries[df_countries['Year'] == 2015].sort_values(by='percentage').to_csv('undernourishment_2015.csv', index=False)"
   ]
  },
  {
   "cell_type": "code",
   "execution_count": 250,
   "metadata": {
    "scrolled": true
   },
   "outputs": [
    {
     "data": {
      "text/html": [
       "<div>\n",
       "<style>\n",
       "    .dataframe thead tr:only-child th {\n",
       "        text-align: right;\n",
       "    }\n",
       "\n",
       "    .dataframe thead th {\n",
       "        text-align: left;\n",
       "    }\n",
       "\n",
       "    .dataframe tbody tr th {\n",
       "        vertical-align: top;\n",
       "    }\n",
       "</style>\n",
       "<table border=\"1\" class=\"dataframe\">\n",
       "  <thead>\n",
       "    <tr style=\"text-align: right;\">\n",
       "      <th></th>\n",
       "      <th>Entity</th>\n",
       "      <th>Code</th>\n",
       "      <th>Year</th>\n",
       "      <th>percentage</th>\n",
       "    </tr>\n",
       "  </thead>\n",
       "  <tbody>\n",
       "    <tr>\n",
       "      <th>3663</th>\n",
       "      <td>World</td>\n",
       "      <td>OWID_WRL</td>\n",
       "      <td>2015</td>\n",
       "      <td>10.6</td>\n",
       "    </tr>\n",
       "  </tbody>\n",
       "</table>\n",
       "</div>"
      ],
      "text/plain": [
       "     Entity      Code  Year  percentage\n",
       "3663  World  OWID_WRL  2015        10.6"
      ]
     },
     "execution_count": 250,
     "metadata": {},
     "output_type": "execute_result"
    }
   ],
   "source": [
    "# getting the world value for 2015\n",
    "df_undernourishment[(df_undernourishment['Entity'] == 'World') & (df_undernourishment['Year'] == 2015)]"
   ]
  },
  {
   "cell_type": "markdown",
   "metadata": {},
   "source": [
    "### Let's load another csv with data for goal 2"
   ]
  },
  {
   "cell_type": "code",
   "execution_count": 251,
   "metadata": {},
   "outputs": [
    {
     "name": "stderr",
     "output_type": "stream",
     "text": [
      "/Users/mariepatino/anaconda3/lib/python3.6/site-packages/IPython/core/interactiveshell.py:2698: DtypeWarning: Columns (1,8,9,14,15,17) have mixed types. Specify dtype option on import or set low_memory=False.\n",
      "  interactivity=interactivity, compiler=compiler, result=result)\n"
     ]
    }
   ],
   "source": [
    "# new CSV!!\n",
    "df_second_goal = pd.read_csv('goal2.csv')"
   ]
  },
  {
   "cell_type": "code",
   "execution_count": 252,
   "metadata": {},
   "outputs": [
    {
     "data": {
      "text/plain": [
       "array([2015, 2000, 2001, 2002, 2003, 2004, 2005, 2006, 2007, 2008, 2009,\n",
       "       2010, 2011, 2012, 2013, 2014, 2017, 2016, 2018])"
      ]
     },
     "execution_count": 252,
     "metadata": {},
     "output_type": "execute_result"
    }
   ],
   "source": [
    "df_second_goal.TimePeriod.unique()"
   ]
  },
  {
   "cell_type": "code",
   "execution_count": null,
   "metadata": {},
   "outputs": [],
   "source": [
    "# Takimg a peak at each indicator\n",
    "df_second_goal[(df_second_goal['TimePeriod'] == 2015) & (df_second_goal['Indicator'] == '2.1.1')]"
   ]
  },
  {
   "cell_type": "code",
   "execution_count": null,
   "metadata": {},
   "outputs": [],
   "source": [
    "df_second_goal.SeriesDescription.unique()"
   ]
  },
  {
   "cell_type": "code",
   "execution_count": null,
   "metadata": {},
   "outputs": [],
   "source": [
    "# Getting the data for the world for each indicator\n",
    "df_second_goal[(df_second_goal['TimePeriod'] == 2000) & (df_second_goal['Indicator'] == '2.1.1')]\n",
    "df_second_goal[(df_second_goal['TimePeriod'] == 2015) & (df_second_goal['Indicator'] == '2.1.1')]\n",
    "df_second_goal[(df_second_goal['TimePeriod'] == 2016) & (df_second_goal['Indicator'] == '2.c.1')]\n"
   ]
  },
  {
   "cell_type": "code",
   "execution_count": 256,
   "metadata": {
    "collapsed": true
   },
   "outputs": [],
   "source": [
    "list_regions = ['World', 'Northern Africa', 'Eastern Asia', 'Southern Asia',\n",
    "                   'South-Eastern Asia', 'Central and Southern Asia', 'Central Asia',\n",
    "                   'Western Asia', 'Least Developed Countries (LDCs)', 'Sub-Saharan Africa',\n",
    "                   'Latin America and the Caribbean', 'Oceania (exc. Australia and New Zealand)',\n",
    "                   'Northern Africa and Western Asia', 'Eastern and South-Eastern Asia']"
   ]
  },
  {
   "cell_type": "code",
   "execution_count": null,
   "metadata": {},
   "outputs": [],
   "source": [
    "# exporting data for line chart\n",
    "df_stunting = df_second_goal[(df_second_goal['Indicator'] == '2.2.1') & (df_second_goal['SeriesDescription'] == 'Proportion of children moderately or severely stunted (%)') &(df_second_goal['[Bounds]'] == 'MP')].loc[df_second_goal['GeoAreaName'].isin(list_regions)]\n",
    "df_stunting.to_csv('stunting.csv', index=False)\n",
    "# We are going to take the median bound "
   ]
  }
 ],
 "metadata": {
  "kernelspec": {
   "display_name": "Python 3",
   "language": "python",
   "name": "python3"
  },
  "language_info": {
   "codemirror_mode": {
    "name": "ipython",
    "version": 3
   },
   "file_extension": ".py",
   "mimetype": "text/x-python",
   "name": "python",
   "nbconvert_exporter": "python",
   "pygments_lexer": "ipython3",
   "version": "3.6.3"
  }
 },
 "nbformat": 4,
 "nbformat_minor": 2
}
